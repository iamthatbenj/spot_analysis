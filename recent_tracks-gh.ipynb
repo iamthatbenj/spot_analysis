{
 "cells": [
  {
   "cell_type": "code",
   "execution_count": 4,
   "metadata": {},
   "outputs": [],
   "source": [
    "from spotipy import Spotify\n",
    "import spotipy\n",
    "import spotipy.util as util\n",
    "import pandas as pd\n",
    "from pandas.io.json import json_normalize\n",
    "from pandas import DataFrame as df\n",
    "import pprint\n",
    "import json\n",
    "pp = pprint.PrettyPrinter(indent=2)"
   ]
  },
  {
   "cell_type": "code",
   "execution_count": null,
   "metadata": {},
   "outputs": [],
   "source": [
    "if __name__ == \"__main__\":\n",
    "    user = #'spotify username of interest here'\n",
    "    client_id = #'spotify app client_id here'\n",
    "    secret = #'spotify app secret here'\n",
    "    scope = 'user-read-recently-played'\n",
    "    token = util.prompt_for_user_token(user, scope, client_id, secret, 'http://localhost:8888/callback/')\n",
    "    sp = spotipy.Spotify(auth=token)\n",
    "    \n",
    "    if token:\n",
    "        recent = sp.current_user_recently_played(limit=50)"
   ]
  },
  {
   "cell_type": "code",
   "execution_count": 613,
   "metadata": {},
   "outputs": [],
   "source": [
    "song_counter = 0\n",
    "title = []\n",
    "artist = []\n",
    "artist_id = []\n",
    "playtime = []\n",
    "song_id = []\n",
    "\n",
    "while song_counter < 50:\n",
    "    title.append(recent['items'][song_counter]['track']['name'])\n",
    "    artist.append(recent['items'][song_counter]['track']['artists'][0]['name'])\n",
    "    artist_id.append(recent['items'][song_counter]['track']['artists'][0]['id'])\n",
    "    playtime.append(recent['items'][song_counter]['played_at'])\n",
    "    song_id.append(recent['items'][song_counter]['track']['id'])\n",
    "    song_counter += 1\n",
    "\n",
    "title_df = pd.DataFrame(title)\n",
    "artist_df = pd.DataFrame(artist)\n",
    "artist_id_df = pd.DataFrame(artist_id)\n",
    "playtime_df = pd.DataFrame(playtime)\n",
    "song_id_df = pd.DataFrame(song_id)\n",
    "\n",
    "transfer = [title_df, artist_df, artist_id_df, playtime_df, song_id_df]\n",
    "playback_raw = pd.concat(transfer, axis=1, sort=False)\n",
    "playback_raw.columns = ['title','artist','artist_id','playtime','song_id']\n",
    "playback_raw['playtime'] = pd.to_datetime(playback_raw['playtime'])\n",
    "playback_raw['playtime'] = playback_raw['playtime'].dt.round('1s')\n",
    "playback_new = playback_raw.drop_duplicates(subset='playtime', keep='first')"
   ]
  },
  {
   "cell_type": "code",
   "execution_count": 614,
   "metadata": {},
   "outputs": [],
   "source": [
    "query_songs = list(playback_new.song_id)"
   ]
  },
  {
   "cell_type": "code",
   "execution_count": 615,
   "metadata": {},
   "outputs": [],
   "source": [
    "audio_df = pd.DataFrame()\n",
    "\n",
    "if token:\n",
    "    for i in query_songs:\n",
    "        audio = sp.audio_features(i)\n",
    "        audio_df = audio_df.append(audio)\n",
    "        \n",
    "audio_df.rename(columns={'id' : 'song_id'}, inplace=True)"
   ]
  },
  {
   "cell_type": "code",
   "execution_count": 617,
   "metadata": {},
   "outputs": [],
   "source": [
    "playback_ready = playback_new.merge(audio_df, on='song_id')"
   ]
  },
  {
   "cell_type": "code",
   "execution_count": 618,
   "metadata": {},
   "outputs": [],
   "source": [
    "merge_df = pd.DataFrame()\n",
    "artist_input = list(playback_ready['artist_id'])"
   ]
  },
  {
   "cell_type": "code",
   "execution_count": 619,
   "metadata": {},
   "outputs": [],
   "source": [
    "art_query = sp.artists(artist_input)\n",
    "aq = 0\n",
    "\n",
    "artist_id = []\n",
    "genres = []\n",
    "popularity = []\n",
    "\n",
    "while aq < len(artist_input):\n",
    "    genres.append(art_query['artists'][aq]['genres'])\n",
    "    artist_id.append(art_query['artists'][aq]['id'])\n",
    "    popularity.append(art_query['artists'][aq]['popularity'])\n",
    "    aq += 1\n",
    "    \n",
    "artist_id_df = pd.DataFrame(artist_id)\n",
    "genre_df = pd.Series(genres)\n",
    "popularity_df = pd.DataFrame(popularity)\n",
    "transfer2 = [artist_id_df, genre_df, popularity_df]\n",
    "artist_raw = pd.concat(transfer2, axis=1, sort=False)\n",
    "artist_raw.columns = ('artist_id', 'genres', 'popularity')"
   ]
  },
  {
   "cell_type": "code",
   "execution_count": null,
   "metadata": {},
   "outputs": [],
   "source": [
    "merge_df = playback_ready.merge(artist_raw)\n",
    "final_df = merge_df.drop_duplicates('playtime', keep='first')"
   ]
  },
  {
   "cell_type": "code",
   "execution_count": null,
   "metadata": {
    "scrolled": true
   },
   "outputs": [],
   "source": [
    "final_df.head(5)"
   ]
  }
 ],
 "metadata": {
  "kernelspec": {
   "display_name": "Python 3",
   "language": "python",
   "name": "python3"
  },
  "language_info": {
   "codemirror_mode": {
    "name": "ipython",
    "version": 3
   },
   "file_extension": ".py",
   "mimetype": "text/x-python",
   "name": "python",
   "nbconvert_exporter": "python",
   "pygments_lexer": "ipython3",
   "version": "3.7.1"
  }
 },
 "nbformat": 4,
 "nbformat_minor": 2
}
